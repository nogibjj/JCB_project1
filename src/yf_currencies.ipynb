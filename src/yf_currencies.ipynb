{
 "cells": [
  {
   "cell_type": "markdown",
   "metadata": {},
   "source": [
    "# Yahoo finance for currencies\n",
    "\n",
    "## This is a notebook that performs some descriptive analysis on diverse currencies\n",
    "\n",
    "### Let's check how MXN, USD & NZD have moved in the last 6 months\n",
    "\n",
    "We'll be using hourly data obtained from Yahoo finance using the package yfinance. \n",
    "\n",
    "Let's import the descriptive statistics we've created in lib.py and a few methods from our download_currencies module:"
   ]
  },
  {
   "cell_type": "code",
   "execution_count": 12,
   "metadata": {},
   "outputs": [],
   "source": [
    "from lib import read_data, print_range, plot_returns\n",
    "from download_currencies import download_prices_long, create_tickers\n",
    "import polars as pl"
   ]
  },
  {
   "cell_type": "markdown",
   "metadata": {},
   "source": [
    "We'll start by creating a list, currencies, that contains the fx pairs we'll be analyzing. We can then use create_tickers to create a list, tickers, that will be used in yfinance's download method.\n",
    "\n",
    "Finally, we download a csv with the Open, High, Low, Close prices for each hour in the last 6 months."
   ]
  },
  {
   "cell_type": "code",
   "execution_count": 2,
   "metadata": {},
   "outputs": [
    {
     "name": "stdout",
     "output_type": "stream",
     "text": [
      "[*********************100%%**********************]  3 of 3 completed\n"
     ]
    }
   ],
   "source": [
    "currencies = ['usdmxn', 'eurusd', 'nzdusd']\n",
    "tickers = create_tickers(currencies)\n",
    "download_prices_long(tickers)"
   ]
  },
  {
   "cell_type": "markdown",
   "metadata": {},
   "source": [
    "Now let's import our data and see what we're dealing with:"
   ]
  },
  {
   "cell_type": "code",
   "execution_count": 3,
   "metadata": {},
   "outputs": [
    {
     "data": {
      "text/html": [
       "<div><style>\n",
       ".dataframe > thead > tr > th,\n",
       ".dataframe > tbody > tr > td {\n",
       "  text-align: right;\n",
       "  white-space: pre-wrap;\n",
       "}\n",
       "</style>\n",
       "<small>shape: (5, 5)</small><table border=\"1\" class=\"dataframe\"><thead><tr><th></th><th>Datetime</th><th>Price type</th><th>Instrument</th><th>Price</th></tr><tr><td>i64</td><td>datetime[μs]</td><td>str</td><td>str</td><td>f64</td></tr></thead><tbody><tr><td>0</td><td>2023-08-18 18:00:00</td><td>&quot;Adj Close&quot;</td><td>&quot;EURUSD=X&quot;</td><td>1.088139</td></tr><tr><td>1</td><td>2023-08-18 19:00:00</td><td>&quot;Adj Close&quot;</td><td>&quot;EURUSD=X&quot;</td><td>1.088139</td></tr><tr><td>2</td><td>2023-08-18 20:00:00</td><td>&quot;Adj Close&quot;</td><td>&quot;EURUSD=X&quot;</td><td>1.087548</td></tr><tr><td>3</td><td>2023-08-18 21:00:00</td><td>&quot;Adj Close&quot;</td><td>&quot;EURUSD=X&quot;</td><td>1.087548</td></tr><tr><td>4</td><td>2023-08-18 22:00:00</td><td>&quot;Adj Close&quot;</td><td>&quot;EURUSD=X&quot;</td><td>1.087429</td></tr></tbody></table></div>"
      ],
      "text/plain": [
       "shape: (5, 5)\n",
       "┌─────┬─────────────────────┬────────────┬────────────┬──────────┐\n",
       "│     ┆ Datetime            ┆ Price type ┆ Instrument ┆ Price    │\n",
       "│ --- ┆ ---                 ┆ ---        ┆ ---        ┆ ---      │\n",
       "│ i64 ┆ datetime[μs]        ┆ str        ┆ str        ┆ f64      │\n",
       "╞═════╪═════════════════════╪════════════╪════════════╪══════════╡\n",
       "│ 0   ┆ 2023-08-18 18:00:00 ┆ Adj Close  ┆ EURUSD=X   ┆ 1.088139 │\n",
       "│ 1   ┆ 2023-08-18 19:00:00 ┆ Adj Close  ┆ EURUSD=X   ┆ 1.088139 │\n",
       "│ 2   ┆ 2023-08-18 20:00:00 ┆ Adj Close  ┆ EURUSD=X   ┆ 1.087548 │\n",
       "│ 3   ┆ 2023-08-18 21:00:00 ┆ Adj Close  ┆ EURUSD=X   ┆ 1.087548 │\n",
       "│ 4   ┆ 2023-08-18 22:00:00 ┆ Adj Close  ┆ EURUSD=X   ┆ 1.087429 │\n",
       "└─────┴─────────────────────┴────────────┴────────────┴──────────┘"
      ]
     },
     "execution_count": 3,
     "metadata": {},
     "output_type": "execute_result"
    }
   ],
   "source": [
    "prices = read_data('currency_prices_long.csv')\n",
    "prices.head()"
   ]
  },
  {
   "cell_type": "code",
   "execution_count": 13,
   "metadata": {},
   "outputs": [
    {
     "data": {
      "text/html": [
       "<div><style>\n",
       ".dataframe > thead > tr > th,\n",
       ".dataframe > tbody > tr > td {\n",
       "  text-align: right;\n",
       "  white-space: pre-wrap;\n",
       "}\n",
       "</style>\n",
       "<small>shape: (6, 5)</small><table border=\"1\" class=\"dataframe\"><thead><tr><th>Instrument</th><th>Price type</th><th></th><th>Datetime</th><th>Price</th></tr><tr><td>str</td><td>str</td><td>f64</td><td>datetime[μs]</td><td>f64</td></tr></thead><tbody><tr><td>&quot;USDMXN=X&quot;</td><td>&quot;Close&quot;</td><td>2766.0</td><td>null</td><td>17.087119</td></tr><tr><td>&quot;USDMXN=X&quot;</td><td>&quot;Low&quot;</td><td>5784.0</td><td>null</td><td>17.065943</td></tr><tr><td>&quot;USDMXN=X&quot;</td><td>&quot;High&quot;</td><td>4275.0</td><td>null</td><td>17.105606</td></tr><tr><td>&quot;USDMXN=X&quot;</td><td>&quot;Open&quot;</td><td>7293.0</td><td>null</td><td>17.087395</td></tr><tr><td>&quot;USDMXN=X&quot;</td><td>&quot;Volume&quot;</td><td>8802.0</td><td>null</td><td>0.0</td></tr><tr><td>&quot;USDMXN=X&quot;</td><td>&quot;Adj Close&quot;</td><td>1257.0</td><td>null</td><td>17.087119</td></tr></tbody></table></div>"
      ],
      "text/plain": [
       "shape: (6, 5)\n",
       "┌────────────┬────────────┬────────┬──────────────┬───────────┐\n",
       "│ Instrument ┆ Price type ┆        ┆ Datetime     ┆ Price     │\n",
       "│ ---        ┆ ---        ┆ ---    ┆ ---          ┆ ---       │\n",
       "│ str        ┆ str        ┆ f64    ┆ datetime[μs] ┆ f64       │\n",
       "╞════════════╪════════════╪════════╪══════════════╪═══════════╡\n",
       "│ USDMXN=X   ┆ Close      ┆ 2766.0 ┆ null         ┆ 17.087119 │\n",
       "│ USDMXN=X   ┆ Low        ┆ 5784.0 ┆ null         ┆ 17.065943 │\n",
       "│ USDMXN=X   ┆ High       ┆ 4275.0 ┆ null         ┆ 17.105606 │\n",
       "│ USDMXN=X   ┆ Open       ┆ 7293.0 ┆ null         ┆ 17.087395 │\n",
       "│ USDMXN=X   ┆ Volume     ┆ 8802.0 ┆ null         ┆ 0.0       │\n",
       "│ USDMXN=X   ┆ Adj Close  ┆ 1257.0 ┆ null         ┆ 17.087119 │\n",
       "└────────────┴────────────┴────────┴──────────────┴───────────┘"
      ]
     },
     "execution_count": 13,
     "metadata": {},
     "output_type": "execute_result"
    }
   ],
   "source": [
    "prices.group_by(['Instrument','Price type']).mean().filter(pl.col('Instrument')=='USDMXN=X')"
   ]
  },
  {
   "cell_type": "code",
   "execution_count": null,
   "metadata": {},
   "outputs": [],
   "source": []
  }
 ],
 "metadata": {
  "kernelspec": {
   "display_name": "base",
   "language": "python",
   "name": "python3"
  },
  "language_info": {
   "codemirror_mode": {
    "name": "ipython",
    "version": 3
   },
   "file_extension": ".py",
   "mimetype": "text/x-python",
   "name": "python",
   "nbconvert_exporter": "python",
   "pygments_lexer": "ipython3",
   "version": "3.10.12"
  },
  "orig_nbformat": 4
 },
 "nbformat": 4,
 "nbformat_minor": 2
}
