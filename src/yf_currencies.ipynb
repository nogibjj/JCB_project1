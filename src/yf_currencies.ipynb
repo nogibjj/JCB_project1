{
 "cells": [
  {
   "cell_type": "code",
   "execution_count": null,
   "metadata": {},
   "outputs": [],
   "source": [
    "# a notebook that imports lib.py and performs some descriptive statistics\n",
    "# Cells that perform descriptive statistics using Polars or Panda.\n",
    "# Tested by using nbval plugin for pytest\n",
    "\n"
   ]
  }
 ],
 "metadata": {
  "kernelspec": {
   "display_name": "base",
   "language": "python",
   "name": "python3"
  },
  "language_info": {
   "name": "python",
   "version": "3.10.12"
  },
  "orig_nbformat": 4
 },
 "nbformat": 4,
 "nbformat_minor": 2
}
